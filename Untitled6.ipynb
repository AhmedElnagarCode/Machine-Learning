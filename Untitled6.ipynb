{
 "cells": [
  {
   "cell_type": "code",
   "execution_count": 1,
   "metadata": {},
   "outputs": [
    {
     "name": "stdout",
     "output_type": "stream",
     "text": [
      "[[ 1.9650102e+07  1.9246000e+01  1.4561600e+02]\n",
      " [ 1.9650104e+07  1.8630000e+00  1.2735200e+02]\n",
      " [ 1.9650105e+07 -2.0579000e+01 -1.7397200e+02]\n",
      " ...\n",
      " [ 2.0161228e+07  3.6917900e+01  1.4042620e+02]\n",
      " [ 2.0161229e+07 -9.0283000e+00  1.1866390e+02]\n",
      " [ 2.0161230e+07  3.7397300e+01  1.4141030e+02]]\n"
     ]
    }
   ],
   "source": [
    "import csv\n",
    "import pandas as pd\n",
    "import numpy as np\n",
    "import time\n",
    "#creating dataset\n",
    "\n",
    "#reading csv file\n",
    "myfile = pd.read_csv(\"database.csv\", sep=\",\")\n",
    "#numpy database\n",
    "database = myfile.to_numpy()\n",
    "\n",
    "#assigning features\n",
    "date = database[:,0]\n",
    "lat = database[:,2]\n",
    "long = database[:,3]\n",
    "mag = database[:,8]\n",
    "\n",
    "#number of items/examples\n",
    "m = len(date)\n",
    "\n",
    "#changing date format to yyyymmdd\n",
    "for i in range(m):  \n",
    "    date[i] = time.strptime(date[i],\"%m-%d-%Y\")\n",
    "    date[i] = int(time.strftime(\"%Y%m%d\",date[i]))\n",
    "\n",
    "#initialising array of feaures\n",
    "X=np.zeros((23409,3))\n",
    "\n",
    "#adding feature vectors into array\n",
    "X[:,0] = date\n",
    "X[:,1] = lat\n",
    "X[:,2] = long\n",
    "\n",
    "#y is the expected result, earthquake magnitude\n",
    "y = mag\n",
    "print(X)"
   ]
  },
  {
   "cell_type": "code",
   "execution_count": 27,
   "metadata": {},
   "outputs": [
    {
     "name": "stdout",
     "output_type": "stream",
     "text": [
      "[ 3.84009042e-17 -2.19543414e-18  1.14232827e-18]\n"
     ]
    }
   ],
   "source": [
    "#Z score normalisation\n",
    "\n",
    "#number of columns/features\n",
    "n = X.shape[1] \n",
    "mu = np.mean(X,axis = 0)\n",
    "print(mu)\n",
    "sigma = np.std(X,axis=0)\n",
    "X = (X-mu)/sigma\n",
    "#Z = (X-mu)/dev\n",
    "# for i in range(n):\n",
    "#     a = X[:,i]\n",
    "#     sum = np.sum(a)\n",
    "#     mean = sum/m\n",
    "#     diff = a - mean\n",
    "#     sqrddiff = np.sum(diff**2)\n",
    "#     dev = np.sqrt(sqrddiff/n)\n",
    "#     a = (a-mean)/dev\n",
    "#     X[:,i] = a\n",
    "#     print(mu)\n",
    "\n"
   ]
  },
  {
   "cell_type": "code",
   "execution_count": 3,
   "metadata": {},
   "outputs": [],
   "source": [
    "#cost function\n",
    "\n",
    "def compute_cost(w,b,X,y):\n",
    "    m = len(y)\n",
    "    diff = 0\n",
    "    for i in range(m):\n",
    "        f = np.dot(X[i],w) + b\n",
    "        diff += (f - y[i])**2\n",
    "    cost = diff/(2*m)\n",
    "    \n",
    "    return(cost)"
   ]
  },
  {
   "cell_type": "code",
   "execution_count": 4,
   "metadata": {},
   "outputs": [
    {
     "name": "stdout",
     "output_type": "stream",
     "text": [
      "(3,)\n"
     ]
    }
   ],
   "source": [
    "#initialising w and b\n",
    "w_init = np.array([0,0,0])\n",
    "b_init = 0\n",
    "print(w_init.shape)\n",
    "\n",
    "#compute cost for initial w and b guesses\n",
    "cost = compute_cost(w_init,b_init,X,y)"
   ]
  },
  {
   "cell_type": "code",
   "execution_count": 5,
   "metadata": {},
   "outputs": [],
   "source": [
    "#computing gradient\n",
    "def compute_gradient(w,b,X,y):\n",
    "    m,n = X.shape\n",
    "\n",
    "    #initialise w and b derivatives\n",
    "    der_w = np.zeros((n,))\n",
    "    der_b = 0\n",
    "\n",
    "    for i in range(m):\n",
    "        error = np.dot(X[i],w) + b - y[i]\n",
    "        der_b += error\n",
    "        for j in range(n):\n",
    "            der_w[j] += error * X[i,j]\n",
    "\n",
    "    der_b = der_b/m\n",
    "    der_w = der_w/m\n",
    "\n",
    "    return(der_w,der_b)"
   ]
  },
  {
   "cell_type": "code",
   "execution_count": 6,
   "metadata": {},
   "outputs": [
    {
     "name": "stdout",
     "output_type": "stream",
     "text": [
      "[ 0.00015353 -0.0001675  -0.00018479] -5.882558417702829\n"
     ]
    }
   ],
   "source": [
    "der_w,der_b = compute_gradient(w_init,b_init,X,y)\n",
    "print(der_w,der_b)"
   ]
  },
  {
   "cell_type": "code",
   "execution_count": 13,
   "metadata": {},
   "outputs": [],
   "source": [
    "def gradient_descent(w_init,b_init,X,y,compute_cost,compute_gradient,alpha):\n",
    "\n",
    "    w = w_init\n",
    "    b = b_init\n",
    "    iterations = 1000\n",
    "    J=np.empty(iterations)\n",
    "\n",
    "    for k in range(iterations):\n",
    "        der_w,der_b = compute_gradient(w,b,X,y)\n",
    "        w = w - alpha*der_w\n",
    "        b = b - alpha*der_b\n",
    "        J[k] = compute_cost(w,b,X,y)\n",
    "        print(k)\n",
    "\n",
    "    return(w,b,J)"
   ]
  },
  {
   "cell_type": "code",
   "execution_count": 14,
   "metadata": {},
   "outputs": [
    {
     "name": "stdout",
     "output_type": "stream",
     "text": [
      "0\n",
      "1\n",
      "2\n",
      "3\n",
      "4\n",
      "5\n",
      "6\n",
      "7\n",
      "8\n",
      "9\n"
     ]
    }
   ],
   "source": [
    "w_final,b_final,J_final = gradient_descent(w_init,b_init,X,y,compute_cost,compute_gradient,0.1)"
   ]
  },
  {
   "cell_type": "code",
   "execution_count": 15,
   "metadata": {},
   "outputs": [
    {
     "name": "stdout",
     "output_type": "stream",
     "text": [
      "[14.10431623 11.44150045  9.28461966  7.53754622  6.12241673  4.97616184\n",
      "  4.04769538  3.29563755  2.6864707   2.19304555]\n"
     ]
    }
   ],
   "source": [
    "print(J_final)"
   ]
  },
  {
   "cell_type": "code",
   "execution_count": 10,
   "metadata": {},
   "outputs": [
    {
     "name": "stdout",
     "output_type": "stream",
     "text": [
      "[-0.00153415  0.00167359  0.00184643]\n",
      "(23409, 3)\n",
      "[2.0221006e+07 5.2520000e+01 1.3405000e+01]\n"
     ]
    }
   ],
   "source": [
    "print(w_final)\n",
    "print(X.shape)\n",
    "X_predic = np.array([20221006, 52.52,13.4050])\n",
    "X_predic_norm = (X_predic - mu)/ \n",
    "print(X_predic)"
   ]
  },
  {
   "cell_type": "code",
   "execution_count": 11,
   "metadata": {},
   "outputs": [
    {
     "name": "stdout",
     "output_type": "stream",
     "text": [
      "-31016.156723434964\n",
      "[[-2.17295921e-02  6.60423396e-03  9.55881810e-03]\n",
      " [-2.17294351e-02  6.92621723e-05  7.91149362e-03]\n",
      " [-2.17293567e-02 -8.36759204e-03 -1.92664742e-02]\n",
      " ...\n",
      " [ 1.83815576e-02  1.32478149e-02  9.09072324e-03]\n",
      " [ 1.83816361e-02 -4.02521739e-03  7.12786901e-03]\n",
      " [ 1.83817146e-02  1.34280407e-02  9.17948430e-03]]\n"
     ]
    }
   ],
   "source": [
    "p = np.dot(X_predic,w_final) + b_final\n",
    "print(p)\n",
    "print(X)"
   ]
  },
  {
   "cell_type": "code",
   "execution_count": null,
   "metadata": {},
   "outputs": [],
   "source": []
  }
 ],
 "metadata": {
  "kernelspec": {
   "display_name": "Python 3.9.1 64-bit",
   "language": "python",
   "name": "python3"
  },
  "language_info": {
   "codemirror_mode": {
    "name": "ipython",
    "version": 3
   },
   "file_extension": ".py",
   "mimetype": "text/x-python",
   "name": "python",
   "nbconvert_exporter": "python",
   "pygments_lexer": "ipython3",
   "version": "3.9.1"
  },
  "vscode": {
   "interpreter": {
    "hash": "9ec063314e8113bc22e709a93262f8275017dfe0d616e9d060e793c7578c74b1"
   }
  }
 },
 "nbformat": 4,
 "nbformat_minor": 4
}
